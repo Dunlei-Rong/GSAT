{
 "cells": [
  {
   "cell_type": "code",
   "execution_count": 1,
   "metadata": {},
   "outputs": [],
   "source": [
    "from clearml import Dataset"
   ]
  },
  {
   "cell_type": "code",
   "execution_count": 2,
   "metadata": {},
   "outputs": [
    {
     "name": "stdout",
     "output_type": "stream",
     "text": [
      "ClearML results page: http://192.168.1.119:8080/projects/3f29db0cb0ea4965b147eabc160a1fa8/experiments/586f4c66aa5f43e68dccf046819d6a86/output/log\n",
      "ClearML dataset page: http://192.168.1.119:8080/datasets/simple/3f29db0cb0ea4965b147eabc160a1fa8/experiments/586f4c66aa5f43e68dccf046819d6a86\n"
     ]
    }
   ],
   "source": [
    "dataset = Dataset.create(dataset_name=\"WSDream_dataset1\", \n",
    "                         dataset_project=\"Service Computing\", \n",
    "                         dataset_tags=[\"QoS Prediction\", \"QoSGNN\"],\n",
    "                         description=\"\"\"About 338 users and 5829 web services. Two QoS (throughoutput, response time)\"\"\"\n",
    "                        )"
   ]
  },
  {
   "cell_type": "code",
   "execution_count": 3,
   "metadata": {},
   "outputs": [
    {
     "data": {
      "text/plain": [
       "1"
      ]
     },
     "execution_count": 3,
     "metadata": {},
     "output_type": "execute_result"
    }
   ],
   "source": [
    "dataset.add_files(path=\"data/WSDream_static/rtMatrix.txt\")\n",
    "dataset.add_files(path=\"data/WSDream_static/tpMatrix.txt\")\n",
    "dataset.add_files(path=\"data/WSDream_static/userlist.txt\")\n",
    "dataset.add_files(path=\"data/WSDream_static/wslist.txt\")"
   ]
  },
  {
   "cell_type": "code",
   "execution_count": 4,
   "metadata": {},
   "outputs": [
    {
     "name": "stdout",
     "output_type": "stream",
     "text": [
      "Uploading dataset changes (4 files compressed to 16 MiB) to http://192.168.1.119:8081\n",
      "File compression and upload completed: total size 16 MiB, 1 chunk(s) stored (average size 16 MiB)\n"
     ]
    }
   ],
   "source": [
    "dataset.upload()"
   ]
  },
  {
   "cell_type": "code",
   "execution_count": 5,
   "metadata": {},
   "outputs": [
    {
     "data": {
      "text/plain": [
       "True"
      ]
     },
     "execution_count": 5,
     "metadata": {},
     "output_type": "execute_result"
    }
   ],
   "source": [
    "dataset.finalize()"
   ]
  },
  {
   "cell_type": "code",
   "execution_count": 6,
   "metadata": {},
   "outputs": [
    {
     "data": {
      "text/plain": [
       "'/home/lmy/servicecomputinglib/data_ml'"
      ]
     },
     "execution_count": 6,
     "metadata": {},
     "output_type": "execute_result"
    }
   ],
   "source": [
    "dataset = Dataset.get(dataset_id=\"6a2e221a8cdf4774b9550f3ef812a0fb\")\n",
    "dataset.get_mutable_local_copy(target_folder=\"data_ml\")"
   ]
  }
 ],
 "metadata": {
  "kernelspec": {
   "display_name": "dgl_torch",
   "language": "python",
   "name": "python3"
  },
  "language_info": {
   "codemirror_mode": {
    "name": "ipython",
    "version": 3
   },
   "file_extension": ".py",
   "mimetype": "text/x-python",
   "name": "python",
   "nbconvert_exporter": "python",
   "pygments_lexer": "ipython3",
   "version": "3.10.9"
  },
  "orig_nbformat": 4
 },
 "nbformat": 4,
 "nbformat_minor": 2
}
